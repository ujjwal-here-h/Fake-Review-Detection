{
 "cells": [
  {
   "cell_type": "code",
   "execution_count": 1,
   "metadata": {},
   "outputs": [],
   "source": [
    "import numpy as np\n",
    "import pandas as pd"
   ]
  },
  {
   "cell_type": "code",
   "execution_count": 2,
   "metadata": {},
   "outputs": [
    {
     "data": {
      "text/html": [
       "<div>\n",
       "<style scoped>\n",
       "    .dataframe tbody tr th:only-of-type {\n",
       "        vertical-align: middle;\n",
       "    }\n",
       "\n",
       "    .dataframe tbody tr th {\n",
       "        vertical-align: top;\n",
       "    }\n",
       "\n",
       "    .dataframe thead th {\n",
       "        text-align: right;\n",
       "    }\n",
       "</style>\n",
       "<table border=\"1\" class=\"dataframe\">\n",
       "  <thead>\n",
       "    <tr style=\"text-align: right;\">\n",
       "      <th></th>\n",
       "      <th>Unnamed: 0</th>\n",
       "      <th>Unnamed: 0.1</th>\n",
       "      <th>date</th>\n",
       "      <th>user_id</th>\n",
       "      <th>prod_id</th>\n",
       "      <th>rating</th>\n",
       "      <th>review</th>\n",
       "      <th>label</th>\n",
       "      <th>avg_Urating</th>\n",
       "      <th>avg_Prating</th>\n",
       "      <th>...</th>\n",
       "      <th>U_rev_perday</th>\n",
       "      <th>mul_rev</th>\n",
       "      <th>4ormore</th>\n",
       "      <th>2orless</th>\n",
       "      <th>pos_to_neg_ratio</th>\n",
       "      <th>subjectivity</th>\n",
       "      <th>polarity</th>\n",
       "      <th>reviewcopy</th>\n",
       "      <th>#ofwordswostp</th>\n",
       "      <th>le_d</th>\n",
       "    </tr>\n",
       "  </thead>\n",
       "  <tbody>\n",
       "    <tr>\n",
       "      <td>0</td>\n",
       "      <td>0</td>\n",
       "      <td>0</td>\n",
       "      <td>08-12-2014</td>\n",
       "      <td>923</td>\n",
       "      <td>0</td>\n",
       "      <td>3</td>\n",
       "      <td>The food at snack is a selection of popular Gr...</td>\n",
       "      <td>0</td>\n",
       "      <td>4.435897</td>\n",
       "      <td>4.071429</td>\n",
       "      <td>...</td>\n",
       "      <td>2</td>\n",
       "      <td>1</td>\n",
       "      <td>35</td>\n",
       "      <td>1</td>\n",
       "      <td>35.0</td>\n",
       "      <td>0.395833</td>\n",
       "      <td>0.195833</td>\n",
       "      <td>food snack selection popular greek dishes appe...</td>\n",
       "      <td>20</td>\n",
       "      <td>50.000000</td>\n",
       "    </tr>\n",
       "    <tr>\n",
       "      <td>1</td>\n",
       "      <td>1</td>\n",
       "      <td>35</td>\n",
       "      <td>08-12-2014</td>\n",
       "      <td>923</td>\n",
       "      <td>880</td>\n",
       "      <td>3</td>\n",
       "      <td>Salads are good. Prices are good. Pesto lasagn...</td>\n",
       "      <td>0</td>\n",
       "      <td>4.435897</td>\n",
       "      <td>4.338889</td>\n",
       "      <td>...</td>\n",
       "      <td>2</td>\n",
       "      <td>1</td>\n",
       "      <td>35</td>\n",
       "      <td>1</td>\n",
       "      <td>35.0</td>\n",
       "      <td>0.615278</td>\n",
       "      <td>0.318056</td>\n",
       "      <td>salads good prices good pesto lasagna good bit...</td>\n",
       "      <td>15</td>\n",
       "      <td>51.724138</td>\n",
       "    </tr>\n",
       "    <tr>\n",
       "      <td>2</td>\n",
       "      <td>2</td>\n",
       "      <td>1</td>\n",
       "      <td>14-01-2014</td>\n",
       "      <td>923</td>\n",
       "      <td>19</td>\n",
       "      <td>5</td>\n",
       "      <td>The restaurant is on the ground floor of a typ...</td>\n",
       "      <td>0</td>\n",
       "      <td>4.435897</td>\n",
       "      <td>4.261905</td>\n",
       "      <td>...</td>\n",
       "      <td>2</td>\n",
       "      <td>1</td>\n",
       "      <td>35</td>\n",
       "      <td>1</td>\n",
       "      <td>35.0</td>\n",
       "      <td>0.563265</td>\n",
       "      <td>0.247789</td>\n",
       "      <td>restaurant ground floor typical park slope bro...</td>\n",
       "      <td>51</td>\n",
       "      <td>53.125000</td>\n",
       "    </tr>\n",
       "    <tr>\n",
       "      <td>3</td>\n",
       "      <td>3</td>\n",
       "      <td>30</td>\n",
       "      <td>14-01-2014</td>\n",
       "      <td>923</td>\n",
       "      <td>717</td>\n",
       "      <td>5</td>\n",
       "      <td>Their pickled vegetable soul is excellent. We ...</td>\n",
       "      <td>0</td>\n",
       "      <td>4.435897</td>\n",
       "      <td>3.777778</td>\n",
       "      <td>...</td>\n",
       "      <td>2</td>\n",
       "      <td>1</td>\n",
       "      <td>35</td>\n",
       "      <td>1</td>\n",
       "      <td>35.0</td>\n",
       "      <td>0.617316</td>\n",
       "      <td>0.296970</td>\n",
       "      <td>pickled vegetable soul excellent dumplings chi...</td>\n",
       "      <td>42</td>\n",
       "      <td>50.000000</td>\n",
       "    </tr>\n",
       "  </tbody>\n",
       "</table>\n",
       "<p>4 rows × 48 columns</p>\n",
       "</div>"
      ],
      "text/plain": [
       "   Unnamed: 0  Unnamed: 0.1        date  user_id  prod_id  rating  \\\n",
       "0           0             0  08-12-2014      923        0       3   \n",
       "1           1            35  08-12-2014      923      880       3   \n",
       "2           2             1  14-01-2014      923       19       5   \n",
       "3           3            30  14-01-2014      923      717       5   \n",
       "\n",
       "                                              review  label  avg_Urating  \\\n",
       "0  The food at snack is a selection of popular Gr...      0     4.435897   \n",
       "1  Salads are good. Prices are good. Pesto lasagn...      0     4.435897   \n",
       "2  The restaurant is on the ground floor of a typ...      0     4.435897   \n",
       "3  Their pickled vegetable soul is excellent. We ...      0     4.435897   \n",
       "\n",
       "   avg_Prating  ...  U_rev_perday  mul_rev  4ormore  2orless  \\\n",
       "0     4.071429  ...             2        1       35        1   \n",
       "1     4.338889  ...             2        1       35        1   \n",
       "2     4.261905  ...             2        1       35        1   \n",
       "3     3.777778  ...             2        1       35        1   \n",
       "\n",
       "   pos_to_neg_ratio subjectivity  polarity  \\\n",
       "0              35.0     0.395833  0.195833   \n",
       "1              35.0     0.615278  0.318056   \n",
       "2              35.0     0.563265  0.247789   \n",
       "3              35.0     0.617316  0.296970   \n",
       "\n",
       "                                          reviewcopy #ofwordswostp       le_d  \n",
       "0  food snack selection popular greek dishes appe...            20  50.000000  \n",
       "1  salads good prices good pesto lasagna good bit...            15  51.724138  \n",
       "2  restaurant ground floor typical park slope bro...            51  53.125000  \n",
       "3  pickled vegetable soul excellent dumplings chi...            42  50.000000  \n",
       "\n",
       "[4 rows x 48 columns]"
      ]
     },
     "execution_count": 2,
     "metadata": {},
     "output_type": "execute_result"
    }
   ],
   "source": [
    "df= pd.read_csv(\"fullwaydone.csv\")               #loaded the data with extracted feaures\n",
    "df.head(4)"
   ]
  },
  {
   "cell_type": "code",
   "execution_count": 3,
   "metadata": {},
   "outputs": [
    {
     "data": {
      "text/html": [
       "<div>\n",
       "<style scoped>\n",
       "    .dataframe tbody tr th:only-of-type {\n",
       "        vertical-align: middle;\n",
       "    }\n",
       "\n",
       "    .dataframe tbody tr th {\n",
       "        vertical-align: top;\n",
       "    }\n",
       "\n",
       "    .dataframe thead th {\n",
       "        text-align: right;\n",
       "    }\n",
       "</style>\n",
       "<table border=\"1\" class=\"dataframe\">\n",
       "  <thead>\n",
       "    <tr style=\"text-align: right;\">\n",
       "      <th></th>\n",
       "      <th>Unnamed: 0</th>\n",
       "      <th>Unnamed: 0.1</th>\n",
       "      <th>date</th>\n",
       "      <th>user_id</th>\n",
       "      <th>prod_id</th>\n",
       "      <th>rating</th>\n",
       "      <th>review</th>\n",
       "      <th>label</th>\n",
       "      <th>avg_Urating</th>\n",
       "      <th>avg_Prating</th>\n",
       "      <th>...</th>\n",
       "      <th>U_rev_perday</th>\n",
       "      <th>mul_rev</th>\n",
       "      <th>4ormore</th>\n",
       "      <th>2orless</th>\n",
       "      <th>pos_to_neg_ratio</th>\n",
       "      <th>subjectivity</th>\n",
       "      <th>polarity</th>\n",
       "      <th>reviewcopy</th>\n",
       "      <th>#ofwordswostp</th>\n",
       "      <th>le_d</th>\n",
       "    </tr>\n",
       "  </thead>\n",
       "  <tbody>\n",
       "    <tr>\n",
       "      <td>0</td>\n",
       "      <td>4194</td>\n",
       "      <td>4194</td>\n",
       "      <td>09-01-2010</td>\n",
       "      <td>50456</td>\n",
       "      <td>649</td>\n",
       "      <td>2</td>\n",
       "      <td>As much as I enjoy the food here I dont see wh...</td>\n",
       "      <td>0</td>\n",
       "      <td>3.333333</td>\n",
       "      <td>4.308108</td>\n",
       "      <td>...</td>\n",
       "      <td>1</td>\n",
       "      <td>1</td>\n",
       "      <td>1</td>\n",
       "      <td>1</td>\n",
       "      <td>1.000000</td>\n",
       "      <td>0.325000</td>\n",
       "      <td>0.150000</td>\n",
       "      <td>much enjoy food dont see fuss solid italian re...</td>\n",
       "      <td>35</td>\n",
       "      <td>48.611111</td>\n",
       "    </tr>\n",
       "    <tr>\n",
       "      <td>1</td>\n",
       "      <td>11831</td>\n",
       "      <td>11831</td>\n",
       "      <td>21-09-2014</td>\n",
       "      <td>157543</td>\n",
       "      <td>247</td>\n",
       "      <td>5</td>\n",
       "      <td>This is THE restaurant that I bring my friends...</td>\n",
       "      <td>0</td>\n",
       "      <td>5.000000</td>\n",
       "      <td>4.071380</td>\n",
       "      <td>...</td>\n",
       "      <td>1</td>\n",
       "      <td>1</td>\n",
       "      <td>1</td>\n",
       "      <td>0</td>\n",
       "      <td>1.695043</td>\n",
       "      <td>0.550350</td>\n",
       "      <td>0.250874</td>\n",
       "      <td>restaurant bring friends town even long wait r...</td>\n",
       "      <td>47</td>\n",
       "      <td>47.959184</td>\n",
       "    </tr>\n",
       "    <tr>\n",
       "      <td>2</td>\n",
       "      <td>981</td>\n",
       "      <td>981</td>\n",
       "      <td>08-01-2012</td>\n",
       "      <td>2954</td>\n",
       "      <td>602</td>\n",
       "      <td>5</td>\n",
       "      <td>I begrudgingly met some friends at East Villag...</td>\n",
       "      <td>1</td>\n",
       "      <td>4.055556</td>\n",
       "      <td>3.959459</td>\n",
       "      <td>...</td>\n",
       "      <td>1</td>\n",
       "      <td>1</td>\n",
       "      <td>16</td>\n",
       "      <td>0</td>\n",
       "      <td>1.695043</td>\n",
       "      <td>0.503501</td>\n",
       "      <td>0.186632</td>\n",
       "      <td>begrudgingly met friends east village tavern w...</td>\n",
       "      <td>83</td>\n",
       "      <td>53.205128</td>\n",
       "    </tr>\n",
       "    <tr>\n",
       "      <td>3</td>\n",
       "      <td>23938</td>\n",
       "      <td>23938</td>\n",
       "      <td>25-11-2013</td>\n",
       "      <td>110931</td>\n",
       "      <td>555</td>\n",
       "      <td>5</td>\n",
       "      <td>awesom</td>\n",
       "      <td>0</td>\n",
       "      <td>5.000000</td>\n",
       "      <td>4.218267</td>\n",
       "      <td>...</td>\n",
       "      <td>1</td>\n",
       "      <td>1</td>\n",
       "      <td>1</td>\n",
       "      <td>0</td>\n",
       "      <td>1.695043</td>\n",
       "      <td>0.000000</td>\n",
       "      <td>0.000000</td>\n",
       "      <td>awesom</td>\n",
       "      <td>1</td>\n",
       "      <td>100.000000</td>\n",
       "    </tr>\n",
       "  </tbody>\n",
       "</table>\n",
       "<p>4 rows × 48 columns</p>\n",
       "</div>"
      ],
      "text/plain": [
       "   Unnamed: 0  Unnamed: 0.1        date  user_id  prod_id  rating  \\\n",
       "0        4194          4194  09-01-2010    50456      649       2   \n",
       "1       11831         11831  21-09-2014   157543      247       5   \n",
       "2         981           981  08-01-2012     2954      602       5   \n",
       "3       23938         23938  25-11-2013   110931      555       5   \n",
       "\n",
       "                                              review  label  avg_Urating  \\\n",
       "0  As much as I enjoy the food here I dont see wh...      0     3.333333   \n",
       "1  This is THE restaurant that I bring my friends...      0     5.000000   \n",
       "2  I begrudgingly met some friends at East Villag...      1     4.055556   \n",
       "3                                             awesom      0     5.000000   \n",
       "\n",
       "   avg_Prating  ...  U_rev_perday  mul_rev  4ormore  2orless  \\\n",
       "0     4.308108  ...             1        1        1        1   \n",
       "1     4.071380  ...             1        1        1        0   \n",
       "2     3.959459  ...             1        1       16        0   \n",
       "3     4.218267  ...             1        1        1        0   \n",
       "\n",
       "   pos_to_neg_ratio subjectivity  polarity  \\\n",
       "0          1.000000     0.325000  0.150000   \n",
       "1          1.695043     0.550350  0.250874   \n",
       "2          1.695043     0.503501  0.186632   \n",
       "3          1.695043     0.000000  0.000000   \n",
       "\n",
       "                                          reviewcopy #ofwordswostp        le_d  \n",
       "0  much enjoy food dont see fuss solid italian re...            35   48.611111  \n",
       "1  restaurant bring friends town even long wait r...            47   47.959184  \n",
       "2  begrudgingly met friends east village tavern w...            83   53.205128  \n",
       "3                                             awesom             1  100.000000  \n",
       "\n",
       "[4 rows x 48 columns]"
      ]
     },
     "execution_count": 3,
     "metadata": {},
     "output_type": "execute_result"
    }
   ],
   "source": [
    "df = df.sample(frac=1).reset_index(drop=True)         #shuffling\n",
    "df.head(4)"
   ]
  },
  {
   "cell_type": "code",
   "execution_count": 4,
   "metadata": {},
   "outputs": [
    {
     "data": {
      "text/plain": [
       "Index(['rating', 'label', 'avg_Urating', 'avg_Prating', 'UCcounts', 'PCcounts',\n",
       "       '#ofwords', 'Uavg#word', 'ratdev', 'noun%', 'imag_to_info',\n",
       "       'selfreference_div', 'capitals', 'assum_fut_count', 'U_rev_perday',\n",
       "       'mul_rev', 'pos_to_neg_ratio', 'subjectivity', 'polarity', 'le_d'],\n",
       "      dtype='object')"
      ]
     },
     "execution_count": 4,
     "metadata": {},
     "output_type": "execute_result"
    }
   ],
   "source": [
    "#dropping unnecessary columns\n",
    "df.drop(['Unnamed: 0','Unnamed: 0.1','date','user_id','prod_id','review','postags','nouns','noun_count','verbs','verb_count','adverbs', 'adverb_count', 'adjectives', 'adj_count','pronouns', 'pronoun_count', 'posspronouns',\n",
    "       'posspronoun_count', 'perprocount','tokens','text_lemmatized', 'lemmatizedtokens','ones','reviewcopy','4ormore','2orless',\n",
    "       '#ofwordswostp'],axis=1,inplace=True)\n",
    "df.columns"
   ]
  },
  {
   "cell_type": "code",
   "execution_count": 5,
   "metadata": {},
   "outputs": [
    {
     "data": {
      "text/html": [
       "<div>\n",
       "<style scoped>\n",
       "    .dataframe tbody tr th:only-of-type {\n",
       "        vertical-align: middle;\n",
       "    }\n",
       "\n",
       "    .dataframe tbody tr th {\n",
       "        vertical-align: top;\n",
       "    }\n",
       "\n",
       "    .dataframe thead th {\n",
       "        text-align: right;\n",
       "    }\n",
       "</style>\n",
       "<table border=\"1\" class=\"dataframe\">\n",
       "  <thead>\n",
       "    <tr style=\"text-align: right;\">\n",
       "      <th></th>\n",
       "      <th>rating</th>\n",
       "      <th>avg_Urating</th>\n",
       "      <th>avg_Prating</th>\n",
       "      <th>UCcounts</th>\n",
       "      <th>PCcounts</th>\n",
       "      <th>#ofwords</th>\n",
       "      <th>Uavg#word</th>\n",
       "      <th>ratdev</th>\n",
       "      <th>noun%</th>\n",
       "      <th>imag_to_info</th>\n",
       "      <th>selfreference_div</th>\n",
       "      <th>capitals</th>\n",
       "      <th>assum_fut_count</th>\n",
       "      <th>U_rev_perday</th>\n",
       "      <th>mul_rev</th>\n",
       "      <th>pos_to_neg_ratio</th>\n",
       "      <th>subjectivity</th>\n",
       "      <th>polarity</th>\n",
       "      <th>le_d</th>\n",
       "      <th>label</th>\n",
       "    </tr>\n",
       "  </thead>\n",
       "  <tbody>\n",
       "    <tr>\n",
       "      <td>0</td>\n",
       "      <td>2</td>\n",
       "      <td>3.333333</td>\n",
       "      <td>4.308108</td>\n",
       "      <td>3</td>\n",
       "      <td>185</td>\n",
       "      <td>72</td>\n",
       "      <td>43.666667</td>\n",
       "      <td>0.308108</td>\n",
       "      <td>20.833333</td>\n",
       "      <td>0.695652</td>\n",
       "      <td>0.666667</td>\n",
       "      <td>3</td>\n",
       "      <td>0</td>\n",
       "      <td>1</td>\n",
       "      <td>1</td>\n",
       "      <td>1.000000</td>\n",
       "      <td>0.325000</td>\n",
       "      <td>0.150000</td>\n",
       "      <td>48.611111</td>\n",
       "      <td>0</td>\n",
       "    </tr>\n",
       "    <tr>\n",
       "      <td>1</td>\n",
       "      <td>5</td>\n",
       "      <td>5.000000</td>\n",
       "      <td>4.071380</td>\n",
       "      <td>1</td>\n",
       "      <td>1471</td>\n",
       "      <td>98</td>\n",
       "      <td>98.000000</td>\n",
       "      <td>0.928620</td>\n",
       "      <td>28.571429</td>\n",
       "      <td>0.452381</td>\n",
       "      <td>0.600000</td>\n",
       "      <td>3</td>\n",
       "      <td>0</td>\n",
       "      <td>1</td>\n",
       "      <td>1</td>\n",
       "      <td>1.695043</td>\n",
       "      <td>0.550350</td>\n",
       "      <td>0.250874</td>\n",
       "      <td>47.959184</td>\n",
       "      <td>0</td>\n",
       "    </tr>\n",
       "    <tr>\n",
       "      <td>2</td>\n",
       "      <td>5</td>\n",
       "      <td>4.055556</td>\n",
       "      <td>3.959459</td>\n",
       "      <td>18</td>\n",
       "      <td>74</td>\n",
       "      <td>156</td>\n",
       "      <td>52.666667</td>\n",
       "      <td>0.040541</td>\n",
       "      <td>24.358974</td>\n",
       "      <td>0.705882</td>\n",
       "      <td>0.785714</td>\n",
       "      <td>8</td>\n",
       "      <td>0</td>\n",
       "      <td>1</td>\n",
       "      <td>1</td>\n",
       "      <td>1.695043</td>\n",
       "      <td>0.503501</td>\n",
       "      <td>0.186632</td>\n",
       "      <td>53.205128</td>\n",
       "      <td>1</td>\n",
       "    </tr>\n",
       "    <tr>\n",
       "      <td>3</td>\n",
       "      <td>5</td>\n",
       "      <td>5.000000</td>\n",
       "      <td>4.218267</td>\n",
       "      <td>1</td>\n",
       "      <td>1489</td>\n",
       "      <td>1</td>\n",
       "      <td>1.000000</td>\n",
       "      <td>0.218267</td>\n",
       "      <td>100.000000</td>\n",
       "      <td>0.000000</td>\n",
       "      <td>0.814177</td>\n",
       "      <td>0</td>\n",
       "      <td>0</td>\n",
       "      <td>1</td>\n",
       "      <td>1</td>\n",
       "      <td>1.695043</td>\n",
       "      <td>0.000000</td>\n",
       "      <td>0.000000</td>\n",
       "      <td>100.000000</td>\n",
       "      <td>0</td>\n",
       "    </tr>\n",
       "    <tr>\n",
       "      <td>4</td>\n",
       "      <td>5</td>\n",
       "      <td>5.000000</td>\n",
       "      <td>4.456693</td>\n",
       "      <td>1</td>\n",
       "      <td>254</td>\n",
       "      <td>220</td>\n",
       "      <td>220.000000</td>\n",
       "      <td>0.543307</td>\n",
       "      <td>26.818182</td>\n",
       "      <td>0.679487</td>\n",
       "      <td>0.583333</td>\n",
       "      <td>1</td>\n",
       "      <td>2</td>\n",
       "      <td>1</td>\n",
       "      <td>1</td>\n",
       "      <td>1.695043</td>\n",
       "      <td>0.509097</td>\n",
       "      <td>0.135069</td>\n",
       "      <td>47.272727</td>\n",
       "      <td>0</td>\n",
       "    </tr>\n",
       "  </tbody>\n",
       "</table>\n",
       "</div>"
      ],
      "text/plain": [
       "   rating  avg_Urating  avg_Prating  UCcounts  PCcounts  #ofwords   Uavg#word  \\\n",
       "0       2     3.333333     4.308108         3       185        72   43.666667   \n",
       "1       5     5.000000     4.071380         1      1471        98   98.000000   \n",
       "2       5     4.055556     3.959459        18        74       156   52.666667   \n",
       "3       5     5.000000     4.218267         1      1489         1    1.000000   \n",
       "4       5     5.000000     4.456693         1       254       220  220.000000   \n",
       "\n",
       "     ratdev       noun%  imag_to_info  selfreference_div  capitals  \\\n",
       "0  0.308108   20.833333      0.695652           0.666667         3   \n",
       "1  0.928620   28.571429      0.452381           0.600000         3   \n",
       "2  0.040541   24.358974      0.705882           0.785714         8   \n",
       "3  0.218267  100.000000      0.000000           0.814177         0   \n",
       "4  0.543307   26.818182      0.679487           0.583333         1   \n",
       "\n",
       "   assum_fut_count  U_rev_perday  mul_rev  pos_to_neg_ratio  subjectivity  \\\n",
       "0                0             1        1          1.000000      0.325000   \n",
       "1                0             1        1          1.695043      0.550350   \n",
       "2                0             1        1          1.695043      0.503501   \n",
       "3                0             1        1          1.695043      0.000000   \n",
       "4                2             1        1          1.695043      0.509097   \n",
       "\n",
       "   polarity        le_d  label  \n",
       "0  0.150000   48.611111      0  \n",
       "1  0.250874   47.959184      0  \n",
       "2  0.186632   53.205128      1  \n",
       "3  0.000000  100.000000      0  \n",
       "4  0.135069   47.272727      0  "
      ]
     },
     "execution_count": 5,
     "metadata": {},
     "output_type": "execute_result"
    }
   ],
   "source": [
    "columntitles=['rating', 'avg_Urating', 'avg_Prating', 'UCcounts', 'PCcounts',\n",
    "       '#ofwords', 'Uavg#word', 'ratdev', 'noun%', 'imag_to_info',\n",
    "       'selfreference_div', 'capitals', 'assum_fut_count', 'U_rev_perday',\n",
    "       'mul_rev', 'pos_to_neg_ratio', 'subjectivity', 'polarity', 'le_d','label']\n",
    "df=df.reindex(columns=columntitles)\n",
    "df.head()"
   ]
  },
  {
   "cell_type": "code",
   "execution_count": 6,
   "metadata": {},
   "outputs": [],
   "source": [
    "df=df.replace([np.inf, -np.inf], np.nan) "
   ]
  },
  {
   "cell_type": "code",
   "execution_count": 7,
   "metadata": {},
   "outputs": [
    {
     "data": {
      "text/plain": [
       "111"
      ]
     },
     "execution_count": 7,
     "metadata": {},
     "output_type": "execute_result"
    }
   ],
   "source": [
    "df.isnull().sum().sum()         #total missing /nan in whole df"
   ]
  },
  {
   "cell_type": "code",
   "execution_count": 8,
   "metadata": {},
   "outputs": [],
   "source": [
    "df= df.fillna(0)"
   ]
  },
  {
   "cell_type": "code",
   "execution_count": 9,
   "metadata": {},
   "outputs": [
    {
     "data": {
      "text/plain": [
       "0"
      ]
     },
     "execution_count": 9,
     "metadata": {},
     "output_type": "execute_result"
    }
   ],
   "source": [
    "df.isnull().sum().sum() "
   ]
  },
  {
   "cell_type": "code",
   "execution_count": 12,
   "metadata": {},
   "outputs": [
    {
     "data": {
      "text/plain": [
       "<function matplotlib.pyplot.show(*args, **kw)>"
      ]
     },
     "execution_count": 12,
     "metadata": {},
     "output_type": "execute_result"
    },
    {
     "data": {
      "image/png": "[encoded data removed]",
      "text/plain": [
       "<Figure size 576x576 with 2 Axes>"
      ]
     },
     "metadata": {
      "needs_background": "light"
     },
     "output_type": "display_data"
    }
   ],
   "source": [
    "import matplotlib.pyplot as plt\n",
    "import seaborn as sns                              #correlation between first 12 features \n",
    "plt.figure(figsize=(8,8))\n",
    "sns.heatmap(df.iloc[:,1:12].corr(),annot=True)\n",
    "plt.show"
   ]
  },
  {
   "cell_type": "code",
   "execution_count": 13,
   "metadata": {},
   "outputs": [
    {
     "data": {
      "text/plain": [
       "array([0, 0, 1, ..., 1, 0, 0], dtype=int64)"
      ]
     },
     "execution_count": 13,
     "metadata": {},
     "output_type": "execute_result"
    }
   ],
   "source": [
    "y= df['label'].to_numpy()\n",
    "y"
   ]
  },
  {
   "cell_type": "code",
   "execution_count": 14,
   "metadata": {},
   "outputs": [
    {
     "data": {
      "text/plain": [
       "(73770, 19)"
      ]
     },
     "execution_count": 14,
     "metadata": {},
     "output_type": "execute_result"
    }
   ],
   "source": [
    "df1= df\n",
    "df= df.drop(columns=['label'])\n",
    "X= df.to_numpy()\n",
    "X.shape"
   ]
  },
  {
   "cell_type": "code",
   "execution_count": 15,
   "metadata": {},
   "outputs": [
    {
     "data": {
      "text/plain": [
       "(73770,)"
      ]
     },
     "execution_count": 15,
     "metadata": {},
     "output_type": "execute_result"
    }
   ],
   "source": [
    "y.shape"
   ]
  },
  {
   "cell_type": "code",
   "execution_count": 16,
   "metadata": {},
   "outputs": [],
   "source": [
    "from numpy import hstack\n",
    "from numpy import vstack\n",
    "from numpy import asarray\n",
    "from sklearn.datasets import make_blobs\n",
    "from sklearn.model_selection import KFold\n",
    "from sklearn.model_selection import train_test_split\n",
    "from sklearn.metrics import accuracy_score\n",
    "from sklearn.neighbors import KNeighborsClassifier\n",
    "from sklearn.linear_model import LogisticRegression\n",
    "from sklearn.tree import DecisionTreeClassifier\n",
    "from sklearn.svm import SVC\n",
    "from sklearn.naive_bayes import GaussianNB\n",
    "from sklearn.ensemble import AdaBoostClassifier\n",
    "from sklearn.ensemble import BaggingClassifier\n",
    "from sklearn.ensemble import RandomForestClassifier\n",
    "from sklearn.ensemble import ExtraTreesClassifier"
   ]
  },
  {
   "cell_type": "code",
   "execution_count": 17,
   "metadata": {},
   "outputs": [],
   "source": [
    "# create a list of base-models\n",
    "def get_models():\n",
    "\tmodels = list()\n",
    "\tmodels.append(LogisticRegression(solver='saga'))\n",
    "\tmodels.append(DecisionTreeClassifier())\n",
    "\tmodels.append(SVC(gamma='scale', probability=True))\n",
    "\tmodels.append(GaussianNB())\n",
    "    #models.append(KNeighborsClassifier())                removed this bcz it was giving memory error.. ran each model individually then it got exposed\n",
    "\tmodels.append(AdaBoostClassifier())\n",
    "\tmodels.append(BaggingClassifier(n_estimators=10))\n",
    "\tmodels.append(RandomForestClassifier(n_estimators=10))\n",
    "\tmodels.append(ExtraTreesClassifier(n_estimators=10))\n",
    "\treturn models"
   ]
  },
  {
   "cell_type": "code",
   "execution_count": 18,
   "metadata": {},
   "outputs": [],
   "source": [
    "# collect out of fold predictions from k-fold cross validation\n",
    "def get_out_of_fold_predictions(X, y, models):\n",
    "\tmeta_X, meta_y = list(), list()\n",
    "\t# define split of data\n",
    "\tkfold = KFold(n_splits=10, shuffle=True)\n",
    "\t# enumerate splits\n",
    "\tfor train_ix, test_ix in kfold.split(X):\n",
    "\t\tfold_yhats = list()\n",
    "\t\t# get data\n",
    "\t\ttrain_X, test_X = X[train_ix], X[test_ix]\n",
    "\t\ttrain_y, test_y = y[train_ix], y[test_ix]\n",
    "\t\tmeta_y.extend(test_y)\n",
    "\t\t# fit and make predictions with each sub-model\n",
    "\t\tfor model in models:\n",
    "\t\t\tmodel.fit(train_X, train_y)\n",
    "\t\t\tyhat = model.predict_proba(test_X)\n",
    "\t\t\t# store columns\n",
    "\t\t\tfold_yhats.append(yhat)\n",
    "\t\t# store fold yhats as columns\n",
    "\t\tmeta_X.append(hstack(fold_yhats))\n",
    "\treturn vstack(meta_X), asarray(meta_y)"
   ]
  },
  {
   "cell_type": "code",
   "execution_count": 19,
   "metadata": {},
   "outputs": [],
   "source": [
    "# fit all base models on the training dataset\n",
    "def fit_base_models(X, y, models):\n",
    "\tfor model in models:\n",
    "\t\tmodel.fit(X, y)"
   ]
  },
  {
   "cell_type": "code",
   "execution_count": 20,
   "metadata": {},
   "outputs": [],
   "source": [
    "# fit a meta model\n",
    "def fit_meta_model(X, y):\n",
    "\tmodel = LogisticRegression(solver='saga')\n",
    "\tmodel.fit(X, y)\n",
    "\treturn model"
   ]
  },
  {
   "cell_type": "code",
   "execution_count": 21,
   "metadata": {},
   "outputs": [],
   "source": [
    "# evaluate a list of models on a dataset\n",
    "def evaluate_models(X, y, models):\n",
    "\tfor model in models:\n",
    "\t\tyhat = model.predict(X)\n",
    "\t\tacc = accuracy_score(y, yhat)\n",
    "\t\tprint('%s: %.3f' % (model.__class__.__name__, acc*100))"
   ]
  },
  {
   "cell_type": "code",
   "execution_count": 22,
   "metadata": {},
   "outputs": [],
   "source": [
    "# make predictions with stacked model\n",
    "def super_learner_predictions(X, models, meta_model):\n",
    "\tmeta_X = list()\n",
    "\tfor model in models:\n",
    "\t\tyhat = model.predict_proba(X)\n",
    "\t\tmeta_X.append(yhat)\n",
    "\tmeta_X = hstack(meta_X)\n",
    "\t# predict\n",
    "\treturn meta_model.predict(meta_X)"
   ]
  },
  {
   "cell_type": "code",
   "execution_count": 23,
   "metadata": {},
   "outputs": [
    {
     "name": "stdout",
     "output_type": "stream",
     "text": [
      "Train (36885, 19) (36885,) Test (36885, 19) (36885,)\n"
     ]
    }
   ],
   "source": [
    "# split\n",
    "X, X_val, y, y_val = train_test_split(X, y, test_size=0.50)\n",
    "print('Train', X.shape, y.shape, 'Test', X_val.shape, y_val.shape)"
   ]
  },
  {
   "cell_type": "code",
   "execution_count": 24,
   "metadata": {},
   "outputs": [],
   "source": [
    "from sklearn.preprocessing import StandardScaler\n",
    "sc=StandardScaler()                                 #feature scaling---- StandardScaler makes the mean of the distribution 0. About 68% of the values will lie be between -1 and 1.\n",
    "X= sc.fit_transform(X)\n",
    "X_val= sc.fit_transform(X_val)"
   ]
  },
  {
   "cell_type": "code",
   "execution_count": 26,
   "metadata": {},
   "outputs": [
    {
     "data": {
      "text/plain": [
       "array([[-0.86092025, -0.93027977, -1.74336493, ..., -0.32116377,\n",
       "        -0.92769599,  0.23741737],\n",
       "       [ 0.85505843,  0.9258544 , -0.76800613, ..., -0.19204577,\n",
       "        -0.3167218 , -0.12899064],\n",
       "       [-0.00293091, -0.00221269, -1.82839177, ..., -0.79466622,\n",
       "        -0.25974941,  0.71159243],\n",
       "       ...,\n",
       "       [-0.86092025, -0.59280083, -1.01530455, ...,  0.21618199,\n",
       "        -0.85231655,  0.04774734],\n",
       "       [ 0.85505843,  0.9258544 ,  0.78046637, ..., -1.28563992,\n",
       "        -1.46109502, -0.78038265],\n",
       "       [ 0.85505843,  0.9258544 ,  0.32950833, ..., -0.35537396,\n",
       "        -0.21964767, -0.56289485]])"
      ]
     },
     "execution_count": 26,
     "metadata": {},
     "output_type": "execute_result"
    }
   ],
   "source": [
    "X"
   ]
  },
  {
   "cell_type": "code",
   "execution_count": 27,
   "metadata": {},
   "outputs": [],
   "source": [
    "# get models\n",
    "models = get_models()"
   ]
  },
  {
   "cell_type": "code",
   "execution_count": 28,
   "metadata": {},
   "outputs": [
    {
     "name": "stdout",
     "output_type": "stream",
     "text": [
      "Meta  (36885, 16) (36885,)\n"
     ]
    }
   ],
   "source": [
    "# get out of fold predictions\n",
    "meta_X, meta_y = get_out_of_fold_predictions(X, y, models)            #took 4 hrs to train\n",
    "print('Meta ', meta_X.shape, meta_y.shape)"
   ]
  },
  {
   "cell_type": "code",
   "execution_count": 29,
   "metadata": {},
   "outputs": [],
   "source": [
    "# fit base models\n",
    "fit_base_models(X, y, models)"
   ]
  },
  {
   "cell_type": "code",
   "execution_count": 30,
   "metadata": {},
   "outputs": [],
   "source": [
    "# fit the meta model\n",
    "meta_model = fit_meta_model(meta_X, meta_y)"
   ]
  },
  {
   "cell_type": "code",
   "execution_count": 31,
   "metadata": {},
   "outputs": [
    {
     "name": "stdout",
     "output_type": "stream",
     "text": [
      "LogisticRegression: 63.134\n",
      "DecisionTreeClassifier: 59.902\n",
      "SVC: 67.155\n",
      "GaussianNB: 60.952\n",
      "AdaBoostClassifier: 66.092\n",
      "BaggingClassifier: 63.969\n",
      "RandomForestClassifier: 64.132\n",
      "ExtraTreesClassifier: 63.999\n"
     ]
    }
   ],
   "source": [
    "# evaluate base models\n",
    "evaluate_models(X_val, y_val, models)                          #evaluation on accuracy"
   ]
  },
  {
   "cell_type": "code",
   "execution_count": 32,
   "metadata": {},
   "outputs": [
    {
     "name": "stdout",
     "output_type": "stream",
     "text": [
      "Super Learner: 67.054\n"
     ]
    }
   ],
   "source": [
    "# evaluate meta model\n",
    "yhat = super_learner_predictions(X_val, models, meta_model)\n",
    "print('Super Learner: %.3f' % (accuracy_score(y_val, yhat) * 100))"
   ]
  },
  {
   "cell_type": "code",
   "execution_count": 33,
   "metadata": {},
   "outputs": [
    {
     "name": "stdout",
     "output_type": "stream",
     "text": [
      "base_model 0\n",
      "accuracy: 0.6313406533821336\n",
      "precision 0.6266639255794829\n",
      "recall 0.6581205807740055\n",
      "  \n",
      "base_model 1\n",
      "accuracy: 0.5990239934932899\n",
      "precision 0.6004948098746841\n",
      "recall 0.6026339936309171\n",
      "  \n",
      "base_model 2\n",
      "accuracy: 0.6715466992002169\n",
      "precision 0.6843164309532023\n",
      "recall 0.6424677497706051\n",
      "  \n",
      "base_model 3\n",
      "accuracy: 0.609516063440423\n",
      "precision 0.576263037206894\n",
      "recall 0.8409888271171804\n",
      "  \n",
      "base_model 4\n",
      "accuracy: 0.6609190727938187\n",
      "precision 0.6622641509433962\n",
      "recall 0.663086306471636\n",
      "  \n",
      "base_model 5\n",
      "accuracy: 0.6396909312728751\n",
      "precision 0.6666878859252657\n",
      "recall 0.5652831003400443\n",
      "  \n",
      "base_model 6\n",
      "accuracy: 0.6413176087840585\n",
      "precision 0.6715683099047742\n",
      "recall 0.5595617207319048\n",
      "  \n",
      "base_model 7\n",
      "accuracy: 0.6399891554832587\n",
      "precision 0.6684210526315789\n",
      "recall 0.5620985588600421\n",
      "  \n"
     ]
    }
   ],
   "source": [
    "from sklearn.metrics import classification_report , accuracy_score, precision_score, recall_score\n",
    "for i in range(len(models)):\n",
    "    print('base_model', i)                                                                                            # print(classification_report(y_val,models[i].predict(X_val)))       #learn classification report  \n",
    "    print('accuracy:',accuracy_score(y_val,models[i].predict(X_val)))\n",
    "    print('precision',precision_score(y_val,models[i].predict(X_val)))\n",
    "    print('recall',recall_score(y_val,models[i].predict(X_val)))\n",
    "    print('  ')\n",
    "    \n",
    "                                                                                                                       #findings- accuracy and precision of svc(2) is greatest among all base models .. and recall is greatest for Gaussian NB(3)"
   ]
  },
  {
   "cell_type": "code",
   "execution_count": 34,
   "metadata": {},
   "outputs": [
    {
     "name": "stdout",
     "output_type": "stream",
     "text": [
      "meta model\n",
      "accuracy: 0.6705435814016538\n",
      "precision 0.6796078210401758\n",
      "recall 0.6509958439034922\n"
     ]
    }
   ],
   "source": [
    "print('meta model')                                                                                                    #imp note- here yhat ie metamodel's prediction is passed . we cant do meta_model.predict(X_val )bcz meta model is trained on out of fold predictions ie 8 columns(corresponding to each base model) but X_val has columns = no.of feaures\n",
    "print('accuracy:',accuracy_score(y_val,yhat))\n",
    "print('precision',precision_score(y_val,yhat))\n",
    "print('recall',recall_score(y_val,yhat))"
   ]
  },
  {
   "cell_type": "markdown",
   "metadata": {},
   "source": [
    "# roc and auc"
   ]
  },
  {
   "cell_type": "code",
   "execution_count": 38,
   "metadata": {},
   "outputs": [
    {
     "data": {
      "image/png": "[encoded data removed]",
      "text/plain": [
       "<Figure size 500x500 with 1 Axes>"
      ]
     },
     "metadata": {
      "needs_background": "light"
     },
     "output_type": "display_data"
    }
   ],
   "source": [
    "model0 =models[0]                                               #logistic regression\n",
    "y_pred0 = model0.decision_function(X_val)\n",
    "model4 =models[4]                                               #adaboost\n",
    "y_pred4 = model4.decision_function(X_val)\n",
    "model_meta = meta_model\n",
    "y_pred2 = model2.decision_function(X_val)                       #svc\n",
    "\n",
    "\n",
    "def super_learner_predictions2(X, models, meta_model):          #using decision_function\n",
    "\tmeta_X = list()\n",
    "\tfor model in models:\n",
    "\t\tyhat = model.predict_proba(X)\n",
    "\t\tmeta_X.append(yhat)\n",
    "\tmeta_X = hstack(meta_X)\n",
    "\t# predict\n",
    "\treturn meta_model.decision_function(meta_X)\n",
    "\n",
    "yhat2= super_learner_predictions2(X_val, models, meta_model)                                                            #decision_function predictions for meta model on test/val data\n",
    "\n",
    "\n",
    "\n",
    "\n",
    "from sklearn.metrics import roc_curve, auc\n",
    "import matplotlib.pyplot as plt                                                                                          #other models like decision tree etc were showing attribute error for decision_functon\n",
    "\n",
    "logistic_fpr, logistic_tpr, threshold = roc_curve(y_val, y_pred0)\n",
    "auc_logistic = auc(logistic_fpr, logistic_tpr)\n",
    "\n",
    "adaboost_fpr, adaboost_tpr, threshold = roc_curve(y_val, y_pred4)\n",
    "auc_adaboost = auc(adaboost_fpr, adaboost_tpr)\n",
    "\n",
    "meta_fpr, meta_tpr, threshold = roc_curve(y_val,yhat2 )\n",
    "auc_meta = auc(meta_fpr, meta_tpr)\n",
    "\n",
    "svc_fpr, svc_tpr, threshold = roc_curve(y_val, y_pred2)\n",
    "auc_svc = auc(svc_fpr, svc_tpr)\n",
    "\n",
    "\n",
    "\n",
    "plt.figure(figsize=(5, 5), dpi=100)\n",
    "plt.plot(adaboost_fpr, adaboost_tpr, linestyle='-', label='adaboost (auc = %0.3f)' % auc_adaboost)\n",
    "plt.plot(logistic_fpr, logistic_tpr,marker='.', label='Logistic (auc = %0.3f)' % auc_logistic)\n",
    "plt.plot(meta_fpr, meta_tpr,marker='.', label='meta_model (auc = %0.3f)' % auc_meta)\n",
    "plt.plot(svc_fpr, svc_tpr,marker='.', label='svc_model (auc = %0.3f)' % auc_svc)\n",
    "\n",
    "\n",
    "\n",
    "plt.xlabel('False Positive Rate -->')\n",
    "plt.ylabel('True Positive Rate -->')\n",
    "\n",
    "plt.legend()\n",
    "\n",
    "plt.show()"
   ]
  },
  {
   "cell_type": "code",
   "execution_count": null,
   "metadata": {},
   "outputs": [],
   "source": [
    "# meta model's auc is the greatest"
   ]
  }
 ],
 "metadata": {
  "kernelspec": {
   "display_name": "Python 3",
   "language": "python",
   "name": "python3"
  },
  "language_info": {
   "codemirror_mode": {
    "name": "ipython",
    "version": 3
   },
   "file_extension": ".py",
   "mimetype": "text/x-python",
   "name": "python",
   "nbconvert_exporter": "python",
   "pygments_lexer": "ipython3",
   "version": "3.7.4"
  }
 },
 "nbformat": 4,
 "nbformat_minor": 2
}
